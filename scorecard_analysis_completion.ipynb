{
 "cells": [
  {
   "cell_type": "code",
   "execution_count": 1,
   "metadata": {
    "collapsed": false
   },
   "outputs": [],
   "source": [
    "%matplotlib inline\n",
    "import pandas as pd\n",
    "import numpy as np\n",
    "import matplotlib.pyplot as plt\n",
    "import seaborn as sns\n",
    "sns.set(style=\"white\", palette=\"muted\", color_codes=True)\n",
    "from sklearn.cross_validation import train_test_split\n",
    "from sklearn.neighbors import KNeighborsClassifier\n",
    "from sklearn.linear_model import LogisticRegression\n",
    "from sklearn.naive_bayes import MultinomialNB\n",
    "from sklearn.svm import SVC\n",
    "from sklearn.tree import DecisionTreeClassifier\n",
    "from sklearn.ensemble import RandomForestClassifier\n",
    "from sklearn.ensemble import GradientBoostingClassifier\n",
    "from sklearn.cross_validation import cross_val_score\n",
    "from sklearn.neural_network import BernoulliRBM\n",
    "from sklearn import metrics\n",
    "from sklearn.pipeline import Pipeline\n",
    "from sklearn.grid_search import GridSearchCV\n",
    "from sklearn.preprocessing import scale\n",
    "import pydot\n",
    "import sqlite3\n",
    "import time\n",
    "import pickle"
   ]
  },
  {
   "cell_type": "code",
   "execution_count": 2,
   "metadata": {
    "collapsed": true
   },
   "outputs": [],
   "source": [
    "con = sqlite3.connect('database.sqlite')"
   ]
  },
  {
   "cell_type": "code",
   "execution_count": 3,
   "metadata": {
    "collapsed": false
   },
   "outputs": [],
   "source": [
    "sample = pd.read_sql_query(\"\"\"\n",
    "SELECT Year, ADM_RATE_ALL, COSTT4_A, UGDS_BLACK, INC_PCT_LO, PAR_ED_PCT_1STGEN, \n",
    "       PCTFLOAN, C150_4\n",
    "FROM Scorecard\n",
    "WHERE  COSTT4_A != 'PrivacySuppressed' AND COSTT4_A IS NOT NULL\n",
    "    AND ADM_RATE_ALL != 'PrivacySuppressed' AND ADM_RATE_ALL IS NOT NULL\n",
    "    AND UGDS_BLACK != 'PrivacySuppressed' AND UGDS_BLACK IS NOT NULL\n",
    "    AND INC_PCT_LO != 'PrivacySuppressed' AND INC_PCT_LO IS NOT NULL\n",
    "    AND PAR_ED_PCT_1STGEN != 'PrivacySuppressed' AND PAR_ED_PCT_1STGEN IS NOT NULL\n",
    "    AND PCTFLOAN != 'PrivacySuppressed' AND PCTFLOAN IS NOT NULL\n",
    "    AND C150_4 != 'PrivacySuppressed' AND C150_4 IS NOT NULL\n",
    "\"\"\",con)"
   ]
  },
  {
   "cell_type": "code",
   "execution_count": 4,
   "metadata": {
    "collapsed": false
   },
   "outputs": [],
   "source": [
    "data = pd.DataFrame(sample)"
   ]
  },
  {
   "cell_type": "code",
   "execution_count": 5,
   "metadata": {
    "collapsed": true
   },
   "outputs": [],
   "source": [
    "data.to_csv('data_2.csv')"
   ]
  },
  {
   "cell_type": "code",
   "execution_count": 6,
   "metadata": {
    "collapsed": true
   },
   "outputs": [],
   "source": [
    "data['completion_class'] = 'temp'"
   ]
  },
  {
   "cell_type": "code",
   "execution_count": 7,
   "metadata": {
    "collapsed": false
   },
   "outputs": [
    {
     "name": "stderr",
     "output_type": "stream",
     "text": [
      "/Users/GarrettHoffman/anaconda/lib/python2.7/site-packages/ipykernel/__main__.py:1: SettingWithCopyWarning: \n",
      "A value is trying to be set on a copy of a slice from a DataFrame\n",
      "\n",
      "See the the caveats in the documentation: http://pandas.pydata.org/pandas-docs/stable/indexing.html#indexing-view-versus-copy\n",
      "  if __name__ == '__main__':\n",
      "/Users/GarrettHoffman/anaconda/lib/python2.7/site-packages/ipykernel/__main__.py:2: SettingWithCopyWarning: \n",
      "A value is trying to be set on a copy of a slice from a DataFrame\n",
      "\n",
      "See the the caveats in the documentation: http://pandas.pydata.org/pandas-docs/stable/indexing.html#indexing-view-versus-copy\n",
      "  from ipykernel import kernelapp as app\n"
     ]
    }
   ],
   "source": [
    "data['completion_class'][(data['C150_4'] < data['C150_4'].mean())] = 'Below Average'\n",
    "data['completion_class'][(data['C150_4'] >= data['C150_4'].mean())] = 'Above Average'"
   ]
  },
  {
   "cell_type": "code",
   "execution_count": 8,
   "metadata": {
    "collapsed": false
   },
   "outputs": [],
   "source": [
    "# data['completion_class'][(data['C150_4'] >= data['C150_4'].quantile(.75))] = 'Above 75th %'\n",
    "# data['completion_class'][(data['C150_4'] < data['C150_4'].quantile(.75))] = 'Between 50th and 75th %'\n",
    "# data['completion_class'][(data['C150_4'] < data['C150_4'].quantile(.5))] = 'Between 25th and 50th %'\n",
    "# data['completion_class'][(data['C150_4'] < data['C150_4'].quantile(.25))] = 'Below 25th %'"
   ]
  },
  {
   "cell_type": "code",
   "execution_count": 9,
   "metadata": {
    "collapsed": false
   },
   "outputs": [],
   "source": [
    "y = data.completion_class\n",
    "X = data.drop(['C150_4', 'completion_class', 'Year'], axis=1).values\n",
    "y_train, y_test, X_train, X_test = train_test_split(y, X, \n",
    "                                                    test_size=.3, \n",
    "                                                    random_state=515)"
   ]
  },
  {
   "cell_type": "code",
   "execution_count": 10,
   "metadata": {
    "collapsed": false
   },
   "outputs": [
    {
     "data": {
      "text/plain": [
       "Below Average    2547\n",
       "Above Average    2398\n",
       "dtype: int64"
      ]
     },
     "execution_count": 10,
     "metadata": {},
     "output_type": "execute_result"
    }
   ],
   "source": [
    "y.value_counts()"
   ]
  },
  {
   "cell_type": "markdown",
   "metadata": {},
   "source": [
    "#### Decision Tree"
   ]
  },
  {
   "cell_type": "code",
   "execution_count": 11,
   "metadata": {
    "collapsed": false
   },
   "outputs": [
    {
     "data": {
      "text/plain": [
       "DecisionTreeClassifier(compute_importances=None, criterion='gini',\n",
       "            max_depth=6, max_features=None, max_leaf_nodes=None,\n",
       "            min_density=None, min_samples_leaf=1, min_samples_split=2,\n",
       "            random_state=None, splitter='best')"
      ]
     },
     "execution_count": 11,
     "metadata": {},
     "output_type": "execute_result"
    }
   ],
   "source": [
    "modDT = DecisionTreeClassifier(max_depth=6)\n",
    "modDT.fit(X_train, y_train)"
   ]
  },
  {
   "cell_type": "code",
   "execution_count": 12,
   "metadata": {
    "collapsed": false
   },
   "outputs": [
    {
     "name": "stdout",
     "output_type": "stream",
     "text": [
      "             precision    recall  f1-score   support\n",
      "\n",
      "Above Average       0.80      0.76      0.78       744\n",
      "Below Average       0.77      0.81      0.79       740\n",
      "\n",
      "avg / total       0.79      0.79      0.79      1484\n",
      "\n"
     ]
    }
   ],
   "source": [
    "print metrics.classification_report(y_test,modDT.predict(X_test))"
   ]
  },
  {
   "cell_type": "markdown",
   "metadata": {},
   "source": [
    "#### Random Forest"
   ]
  },
  {
   "cell_type": "code",
   "execution_count": 13,
   "metadata": {
    "collapsed": false
   },
   "outputs": [
    {
     "data": {
      "text/plain": [
       "RandomForestClassifier(bootstrap=True, compute_importances=None,\n",
       "            criterion='gini', max_depth=None, max_features='auto',\n",
       "            max_leaf_nodes=None, min_density=None, min_samples_leaf=1,\n",
       "            min_samples_split=2, n_estimators=1000, n_jobs=1,\n",
       "            oob_score=False, random_state=None, verbose=0)"
      ]
     },
     "execution_count": 13,
     "metadata": {},
     "output_type": "execute_result"
    }
   ],
   "source": [
    "modRF = RandomForestClassifier(n_estimators=1000)\n",
    "modRF.fit(X_train, y_train)"
   ]
  },
  {
   "cell_type": "code",
   "execution_count": 14,
   "metadata": {
    "collapsed": false
   },
   "outputs": [
    {
     "name": "stdout",
     "output_type": "stream",
     "text": [
      "             precision    recall  f1-score   support\n",
      "\n",
      "Above Average       0.84      0.78      0.81       744\n",
      "Below Average       0.80      0.85      0.82       740\n",
      "\n",
      "avg / total       0.82      0.82      0.82      1484\n",
      "\n"
     ]
    }
   ],
   "source": [
    "print metrics.classification_report(y_test,modRF.predict(X_test))"
   ]
  },
  {
   "cell_type": "code",
   "execution_count": 15,
   "metadata": {
    "collapsed": false
   },
   "outputs": [],
   "source": [
    "importance = modRF.feature_importances_"
   ]
  },
  {
   "cell_type": "code",
   "execution_count": 16,
   "metadata": {
    "collapsed": false
   },
   "outputs": [],
   "source": [
    "features = data.drop(['C150_4', 'completion_class', 'Year'], axis=1).columns"
   ]
  },
  {
   "cell_type": "code",
   "execution_count": 17,
   "metadata": {
    "collapsed": false,
    "scrolled": true
   },
   "outputs": [
    {
     "data": {
      "text/plain": [
       "[('ADM_RATE_ALL', 0.10038769259817625),\n",
       " ('COSTT4_A', 0.18776895579133862),\n",
       " ('UGDS_BLACK', 0.11709780614321259),\n",
       " ('INC_PCT_LO', 0.27427346401531699),\n",
       " ('PAR_ED_PCT_1STGEN', 0.21354658196228204),\n",
       " ('PCTFLOAN', 0.10692549948967285)]"
      ]
     },
     "execution_count": 17,
     "metadata": {},
     "output_type": "execute_result"
    }
   ],
   "source": [
    "zip(features, importance)"
   ]
  },
  {
   "cell_type": "markdown",
   "metadata": {},
   "source": [
    "#### Miltinomial Naive Bayes"
   ]
  },
  {
   "cell_type": "code",
   "execution_count": 18,
   "metadata": {
    "collapsed": false
   },
   "outputs": [
    {
     "data": {
      "text/plain": [
       "MultinomialNB(alpha=1, class_prior=None, fit_prior=True)"
      ]
     },
     "execution_count": 18,
     "metadata": {},
     "output_type": "execute_result"
    }
   ],
   "source": [
    "modNB = MultinomialNB(alpha=1)\n",
    "modNB.fit(X_train,y_train)"
   ]
  },
  {
   "cell_type": "code",
   "execution_count": 19,
   "metadata": {
    "collapsed": false
   },
   "outputs": [
    {
     "name": "stdout",
     "output_type": "stream",
     "text": [
      "             precision    recall  f1-score   support\n",
      "\n",
      "Above Average       0.78      0.69      0.73       744\n",
      "Below Average       0.72      0.81      0.76       740\n",
      "\n",
      "avg / total       0.75      0.75      0.75      1484\n",
      "\n"
     ]
    }
   ],
   "source": [
    "print metrics.classification_report(y_test,modNB.predict(X_test))"
   ]
  },
  {
   "cell_type": "markdown",
   "metadata": {},
   "source": [
    "#### Logistic Regression"
   ]
  },
  {
   "cell_type": "code",
   "execution_count": 20,
   "metadata": {
    "collapsed": false
   },
   "outputs": [
    {
     "data": {
      "text/plain": [
       "LogisticRegression(C=1.0, class_weight=None, dual=False, fit_intercept=True,\n",
       "          intercept_scaling=1, penalty='l2', random_state=None, tol=0.0001)"
      ]
     },
     "execution_count": 20,
     "metadata": {},
     "output_type": "execute_result"
    }
   ],
   "source": [
    "modLog = LogisticRegression()\n",
    "modLog.fit(X_train, y_train)"
   ]
  },
  {
   "cell_type": "code",
   "execution_count": 21,
   "metadata": {
    "collapsed": false
   },
   "outputs": [
    {
     "name": "stdout",
     "output_type": "stream",
     "text": [
      "             precision    recall  f1-score   support\n",
      "\n",
      "Above Average       0.74      0.69      0.72       744\n",
      "Below Average       0.71      0.75      0.73       740\n",
      "\n",
      "avg / total       0.72      0.72      0.72      1484\n",
      "\n"
     ]
    }
   ],
   "source": [
    "print metrics.classification_report(y_test,modLog.predict(X_test))"
   ]
  },
  {
   "cell_type": "markdown",
   "metadata": {},
   "source": [
    "#### Gradient Boosting Machines"
   ]
  },
  {
   "cell_type": "code",
   "execution_count": 22,
   "metadata": {
    "collapsed": false
   },
   "outputs": [
    {
     "name": "stdout",
     "output_type": "stream",
     "text": [
      "      Iter       Train Loss      OOB Improve   Remaining Time \n",
      "         1           1.3458           0.0438            2.55s\n",
      "         2           1.3091           0.0352            1.52s\n",
      "         3           1.2770           0.0315            1.19s\n",
      "         4           1.2458           0.0280            1.03s\n",
      "         5           1.2207           0.0288            0.91s\n",
      "         6           1.1947           0.0236            0.83s\n",
      "         7           1.1717           0.0206            0.80s\n",
      "         8           1.1495           0.0211            0.76s\n",
      "         9           1.1301           0.0208            0.72s\n",
      "        10           1.1096           0.0166            0.70s\n",
      "        20           0.9745           0.0070            0.55s\n",
      "        30           0.9008           0.0047            0.45s\n",
      "        40           0.8522           0.0021            0.36s\n",
      "        50           0.8245           0.0003            0.29s\n",
      "        60           0.7860          -0.0005            0.23s\n",
      "        70           0.7797           0.0005            0.17s\n",
      "        80           0.7634           0.0001            0.11s\n",
      "        90           0.7430          -0.0009            0.05s\n",
      "       100           0.7548          -0.0002            0.00s\n"
     ]
    },
    {
     "data": {
      "text/plain": [
       "GradientBoostingClassifier(init=None, learning_rate=0.05, loss='deviance',\n",
       "              max_depth=3, max_features=None, max_leaf_nodes=None,\n",
       "              min_samples_leaf=1, min_samples_split=2, n_estimators=100,\n",
       "              random_state=None, subsample=0.9, verbose=1,\n",
       "              warm_start=False)"
      ]
     },
     "execution_count": 22,
     "metadata": {},
     "output_type": "execute_result"
    }
   ],
   "source": [
    "modGBM = GradientBoostingClassifier(learning_rate = .05, subsample = .9, verbose = 1)\n",
    "modGBM.fit(X_train, y_train)"
   ]
  },
  {
   "cell_type": "code",
   "execution_count": 23,
   "metadata": {
    "collapsed": false
   },
   "outputs": [
    {
     "name": "stdout",
     "output_type": "stream",
     "text": [
      "             precision    recall  f1-score   support\n",
      "\n",
      "Above Average       0.83      0.76      0.80       744\n",
      "Below Average       0.78      0.85      0.81       740\n",
      "\n",
      "avg / total       0.81      0.80      0.80      1484\n",
      "\n"
     ]
    }
   ],
   "source": [
    "print metrics.classification_report(y_test,modGBM.predict(X_test))"
   ]
  },
  {
   "cell_type": "markdown",
   "metadata": {},
   "source": [
    "#### Restricted Boltzman Machine for Feature Selection Into Random Forest"
   ]
  },
  {
   "cell_type": "code",
   "execution_count": 24,
   "metadata": {
    "collapsed": false
   },
   "outputs": [],
   "source": [
    "RBM = BernoulliRBM(learning_rate=.1, n_iter = 20, n_components = 50)\n",
    "RF = RandomForestClassifier(n_estimators=1000)\n",
    "classifier = Pipeline([(\"rbm\", RBM), (\"randomforest\", RF)])"
   ]
  },
  {
   "cell_type": "code",
   "execution_count": 25,
   "metadata": {
    "collapsed": false
   },
   "outputs": [
    {
     "data": {
      "text/plain": [
       "Pipeline(steps=[('rbm', BernoulliRBM(batch_size=10, learning_rate=0.1, n_components=50, n_iter=20,\n",
       "       random_state=None, verbose=0)), ('randomforest', RandomForestClassifier(bootstrap=True, compute_importances=None,\n",
       "            criterion='gini', max_depth=None, max_features='auto',\n",
       "            max_leaf_nodes=None, min_density=None, min_samples_leaf=1,\n",
       "            min_samples_split=2, n_estimators=1000, n_jobs=1,\n",
       "            oob_score=False, random_state=None, verbose=0))])"
      ]
     },
     "execution_count": 25,
     "metadata": {},
     "output_type": "execute_result"
    }
   ],
   "source": [
    "classifier.fit(X_train, y_train)"
   ]
  },
  {
   "cell_type": "code",
   "execution_count": 26,
   "metadata": {
    "collapsed": false
   },
   "outputs": [
    {
     "name": "stdout",
     "output_type": "stream",
     "text": [
      "             precision    recall  f1-score   support\n",
      "\n",
      "Above Average       0.00      0.00      0.00       744\n",
      "Below Average       0.50      1.00      0.67       740\n",
      "\n",
      "avg / total       0.25      0.50      0.33      1484\n",
      "\n"
     ]
    },
    {
     "name": "stderr",
     "output_type": "stream",
     "text": [
      "/Users/GarrettHoffman/anaconda/lib/python2.7/site-packages/sklearn/metrics/metrics.py:1771: UndefinedMetricWarning: Precision and F-score are ill-defined and being set to 0.0 in labels with no predicted samples.\n",
      "  'precision', 'predicted', average, warn_for)\n"
     ]
    }
   ],
   "source": [
    "print metrics.classification_report(y_test,classifier.predict(X_test))"
   ]
  },
  {
   "cell_type": "markdown",
   "metadata": {},
   "source": [
    "##### Scale Data"
   ]
  },
  {
   "cell_type": "code",
   "execution_count": 27,
   "metadata": {
    "collapsed": false
   },
   "outputs": [],
   "source": [
    "X_train_scaled = scale(X_train)\n",
    "X_test_scaled = scale(X_test)"
   ]
  },
  {
   "cell_type": "markdown",
   "metadata": {},
   "source": [
    "#### SVM"
   ]
  },
  {
   "cell_type": "code",
   "execution_count": 28,
   "metadata": {
    "collapsed": false,
    "scrolled": true
   },
   "outputs": [
    {
     "data": {
      "text/plain": [
       "SVC(C=1.0, cache_size=200, class_weight=None, coef0=0.0, degree=3, gamma=0.0,\n",
       "  kernel='rbf', max_iter=-1, probability=False, random_state=None,\n",
       "  shrinking=True, tol=0.001, verbose=False)"
      ]
     },
     "execution_count": 28,
     "metadata": {},
     "output_type": "execute_result"
    }
   ],
   "source": [
    "modSVM = SVC()\n",
    "modSVM.fit(X_train_scaled,y_train)"
   ]
  },
  {
   "cell_type": "code",
   "execution_count": 29,
   "metadata": {
    "collapsed": false,
    "scrolled": false
   },
   "outputs": [
    {
     "name": "stdout",
     "output_type": "stream",
     "text": [
      "             precision    recall  f1-score   support\n",
      "\n",
      "Above Average       0.85      0.73      0.78       744\n",
      "Below Average       0.76      0.87      0.81       740\n",
      "\n",
      "avg / total       0.81      0.80      0.80      1484\n",
      "\n"
     ]
    }
   ],
   "source": [
    "print metrics.classification_report(y_test,modSVM.predict(X_test_scaled))"
   ]
  },
  {
   "cell_type": "markdown",
   "metadata": {},
   "source": [
    "#### KNN"
   ]
  },
  {
   "cell_type": "code",
   "execution_count": 30,
   "metadata": {
    "collapsed": false
   },
   "outputs": [
    {
     "data": {
      "text/plain": [
       "KNeighborsClassifier(algorithm='auto', leaf_size=30, metric='minkowski',\n",
       "           metric_params=None, n_neighbors=10, p=2, weights='uniform')"
      ]
     },
     "execution_count": 30,
     "metadata": {},
     "output_type": "execute_result"
    }
   ],
   "source": [
    "modKNN = KNeighborsClassifier(n_neighbors=10)\n",
    "modKNN.fit(X_train_scaled, y_train)"
   ]
  },
  {
   "cell_type": "code",
   "execution_count": 31,
   "metadata": {
    "collapsed": false
   },
   "outputs": [
    {
     "name": "stdout",
     "output_type": "stream",
     "text": [
      "             precision    recall  f1-score   support\n",
      "\n",
      "Above Average       0.80      0.78      0.79       744\n",
      "Below Average       0.79      0.81      0.80       740\n",
      "\n",
      "avg / total       0.79      0.79      0.79      1484\n",
      "\n"
     ]
    }
   ],
   "source": [
    "print metrics.classification_report(y_test,modKNN.predict(X_test_scaled))"
   ]
  },
  {
   "cell_type": "markdown",
   "metadata": {},
   "source": [
    "### Two Fields"
   ]
  },
  {
   "cell_type": "code",
   "execution_count": 32,
   "metadata": {
    "collapsed": true
   },
   "outputs": [],
   "source": [
    "ADM_RATE_ALL_train = X_train[:,0]\n",
    "COSTT4_A_train = X_train[:,1]\n",
    "UGDS_BLACK_train = X_train[:,2]\n",
    "INC_PCT_LO_train = X_train[:,3]\n",
    "PAR_ED_PCT_1STGEN_train = X_train[:,4]\n",
    "PCTFLOAN_train = X_train[:,5]"
   ]
  },
  {
   "cell_type": "code",
   "execution_count": 33,
   "metadata": {
    "collapsed": true
   },
   "outputs": [],
   "source": [
    "ADM_RATE_ALL_test = X_test[:,0]\n",
    "COSTT4_A_test = X_test[:,1]\n",
    "UGDS_BLACK_test = X_test[:,2]\n",
    "INC_PCT_LO_test = X_test[:,3]\n",
    "PAR_ED_PCT_1STGEN_test = X_test[:,4]\n",
    "PCTFLOAN_test = X_test[:,5]"
   ]
  },
  {
   "cell_type": "code",
   "execution_count": 34,
   "metadata": {
    "collapsed": false
   },
   "outputs": [],
   "source": [
    "ADM_RATE_ALL_scaled_train = X_train_scaled[:,0]\n",
    "COSTT4_A_scaled_train = X_train_scaled[:,1]\n",
    "UGDS_BLACK_scaled_train = X_train_scaled[:,2]\n",
    "INC_PCT_LO_scaled_train = X_train_scaled[:,3]\n",
    "PAR_ED_PCT_1STGEN_scaled_train = X_train_scaled[:,4]\n",
    "PCTFLOAN_scaled_train = X_train_scaled[:,5]"
   ]
  },
  {
   "cell_type": "code",
   "execution_count": 35,
   "metadata": {
    "collapsed": true
   },
   "outputs": [],
   "source": [
    "ADM_RATE_ALL_scaled_test = X_test_scaled[:,0]\n",
    "COSTT4_A_scaled_test = X_test_scaled[:,1]\n",
    "UGDS_BLACK_scaled_test = X_test_scaled[:,2]\n",
    "INC_PCT_LO_scaled_test = X_test_scaled[:,3]\n",
    "PAR_ED_PCT_1STGEN_scaled_test = X_test_scaled[:,4]\n",
    "PCTFLOAN_scaled_test = X_test_scaled[:,5]"
   ]
  },
  {
   "cell_type": "markdown",
   "metadata": {},
   "source": [
    "##### Cost and % Low Income Students"
   ]
  },
  {
   "cell_type": "code",
   "execution_count": 36,
   "metadata": {
    "collapsed": true
   },
   "outputs": [],
   "source": [
    "X_Cost_PctLo_train = np.column_stack((COSTT4_A_train, INC_PCT_LO_train))\n",
    "X_Cost_PctLo_test = np.column_stack((COSTT4_A_test, INC_PCT_LO_test))"
   ]
  },
  {
   "cell_type": "markdown",
   "metadata": {},
   "source": [
    "##### Decision Tree"
   ]
  },
  {
   "cell_type": "code",
   "execution_count": 37,
   "metadata": {
    "collapsed": false
   },
   "outputs": [
    {
     "data": {
      "text/plain": [
       "DecisionTreeClassifier(compute_importances=None, criterion='gini',\n",
       "            max_depth=6, max_features=None, max_leaf_nodes=None,\n",
       "            min_density=None, min_samples_leaf=1, min_samples_split=2,\n",
       "            random_state=None, splitter='best')"
      ]
     },
     "execution_count": 37,
     "metadata": {},
     "output_type": "execute_result"
    }
   ],
   "source": [
    "modDT = DecisionTreeClassifier(max_depth=6)\n",
    "modDT.fit(X_Cost_PctLo_train, y_train)"
   ]
  },
  {
   "cell_type": "code",
   "execution_count": 38,
   "metadata": {
    "collapsed": false
   },
   "outputs": [
    {
     "name": "stdout",
     "output_type": "stream",
     "text": [
      "             precision    recall  f1-score   support\n",
      "\n",
      "Above Average       0.79      0.78      0.79       744\n",
      "Below Average       0.78      0.79      0.79       740\n",
      "\n",
      "avg / total       0.79      0.79      0.79      1484\n",
      "\n"
     ]
    }
   ],
   "source": [
    "print metrics.classification_report(y_test,modDT.predict(X_Cost_PctLo_test))"
   ]
  },
  {
   "cell_type": "markdown",
   "metadata": {},
   "source": [
    "##### Random Forest"
   ]
  },
  {
   "cell_type": "code",
   "execution_count": 39,
   "metadata": {
    "collapsed": false
   },
   "outputs": [
    {
     "data": {
      "text/plain": [
       "RandomForestClassifier(bootstrap=True, compute_importances=None,\n",
       "            criterion='gini', max_depth=None, max_features='auto',\n",
       "            max_leaf_nodes=None, min_density=None, min_samples_leaf=1,\n",
       "            min_samples_split=2, n_estimators=1000, n_jobs=1,\n",
       "            oob_score=False, random_state=None, verbose=0)"
      ]
     },
     "execution_count": 39,
     "metadata": {},
     "output_type": "execute_result"
    }
   ],
   "source": [
    "modRF = RandomForestClassifier(n_estimators=1000)\n",
    "modRF.fit(X_Cost_PctLo_train, y_train)"
   ]
  },
  {
   "cell_type": "code",
   "execution_count": 40,
   "metadata": {
    "collapsed": false
   },
   "outputs": [
    {
     "name": "stdout",
     "output_type": "stream",
     "text": [
      "             precision    recall  f1-score   support\n",
      "\n",
      "Above Average       0.79      0.75      0.77       744\n",
      "Below Average       0.76      0.80      0.78       740\n",
      "\n",
      "avg / total       0.77      0.77      0.77      1484\n",
      "\n"
     ]
    }
   ],
   "source": [
    "print metrics.classification_report(y_test,modRF.predict(X_Cost_PctLo_test))"
   ]
  },
  {
   "cell_type": "code",
   "execution_count": 41,
   "metadata": {
    "collapsed": false
   },
   "outputs": [
    {
     "data": {
      "text/plain": [
       "array([ 0.43816578,  0.56183422])"
      ]
     },
     "execution_count": 41,
     "metadata": {},
     "output_type": "execute_result"
    }
   ],
   "source": [
    "modRF.feature_importances_"
   ]
  },
  {
   "cell_type": "markdown",
   "metadata": {},
   "source": [
    "##### Multinomial Naive Bayes"
   ]
  },
  {
   "cell_type": "code",
   "execution_count": 42,
   "metadata": {
    "collapsed": false
   },
   "outputs": [
    {
     "data": {
      "text/plain": [
       "MultinomialNB(alpha=1, class_prior=None, fit_prior=True)"
      ]
     },
     "execution_count": 42,
     "metadata": {},
     "output_type": "execute_result"
    }
   ],
   "source": [
    "modNB = MultinomialNB(alpha=1)\n",
    "modNB.fit(X_Cost_PctLo_train, y_train)"
   ]
  },
  {
   "cell_type": "code",
   "execution_count": 43,
   "metadata": {
    "collapsed": false
   },
   "outputs": [
    {
     "name": "stdout",
     "output_type": "stream",
     "text": [
      "             precision    recall  f1-score   support\n",
      "\n",
      "Above Average       0.88      0.61      0.72       744\n",
      "Below Average       0.70      0.91      0.79       740\n",
      "\n",
      "avg / total       0.79      0.76      0.76      1484\n",
      "\n"
     ]
    }
   ],
   "source": [
    "print metrics.classification_report(y_test,modNB.predict(X_Cost_PctLo_test))"
   ]
  },
  {
   "cell_type": "markdown",
   "metadata": {},
   "source": [
    "##### Logistic Regressions"
   ]
  },
  {
   "cell_type": "code",
   "execution_count": 44,
   "metadata": {
    "collapsed": false
   },
   "outputs": [
    {
     "data": {
      "text/plain": [
       "LogisticRegression(C=1.0, class_weight=None, dual=False, fit_intercept=True,\n",
       "          intercept_scaling=1, penalty='l2', random_state=None, tol=0.0001)"
      ]
     },
     "execution_count": 44,
     "metadata": {},
     "output_type": "execute_result"
    }
   ],
   "source": [
    "modLog = LogisticRegression()\n",
    "modLog.fit(X_Cost_PctLo_train, y_train)"
   ]
  },
  {
   "cell_type": "code",
   "execution_count": 45,
   "metadata": {
    "collapsed": false
   },
   "outputs": [
    {
     "name": "stdout",
     "output_type": "stream",
     "text": [
      "             precision    recall  f1-score   support\n",
      "\n",
      "Above Average       0.66      0.77      0.71       744\n",
      "Below Average       0.72      0.60      0.66       740\n",
      "\n",
      "avg / total       0.69      0.69      0.69      1484\n",
      "\n"
     ]
    }
   ],
   "source": [
    "print metrics.classification_report(y_test,modLog.predict(X_Cost_PctLo_test))"
   ]
  },
  {
   "cell_type": "markdown",
   "metadata": {},
   "source": [
    "##### Gradient Boosting Machine"
   ]
  },
  {
   "cell_type": "code",
   "execution_count": 46,
   "metadata": {
    "collapsed": false
   },
   "outputs": [
    {
     "name": "stdout",
     "output_type": "stream",
     "text": [
      "      Iter       Train Loss      OOB Improve   Remaining Time \n",
      "         1           1.3450           0.0361            0.39s\n",
      "         2           1.3093           0.0316            0.33s\n",
      "         3           1.2790           0.0320            0.31s\n",
      "         4           1.2493           0.0299            0.30s\n",
      "         5           1.2191           0.0236            0.29s\n",
      "         6           1.1978           0.0243            0.29s\n",
      "         7           1.1737           0.0211            0.28s\n",
      "         8           1.1505           0.0166            0.28s\n",
      "         9           1.1327           0.0179            0.27s\n",
      "        10           1.1138           0.0147            0.27s\n",
      "        20           0.9968           0.0086            0.25s\n",
      "        30           0.9430           0.0038            0.24s\n",
      "        40           0.8965           0.0008            0.20s\n",
      "        50           0.8839           0.0006            0.16s\n",
      "        60           0.8689           0.0007            0.12s\n",
      "        70           0.8565          -0.0006            0.09s\n",
      "        80           0.8556          -0.0004            0.06s\n",
      "        90           0.8311          -0.0020            0.03s\n",
      "       100           0.8344          -0.0006            0.00s\n"
     ]
    },
    {
     "data": {
      "text/plain": [
       "GradientBoostingClassifier(init=None, learning_rate=0.05, loss='deviance',\n",
       "              max_depth=3, max_features=None, max_leaf_nodes=None,\n",
       "              min_samples_leaf=1, min_samples_split=2, n_estimators=100,\n",
       "              random_state=None, subsample=0.9, verbose=1,\n",
       "              warm_start=False)"
      ]
     },
     "execution_count": 46,
     "metadata": {},
     "output_type": "execute_result"
    }
   ],
   "source": [
    "modGBM = GradientBoostingClassifier(learning_rate = .05, subsample = .9, verbose = 1)\n",
    "modGBM.fit(X_Cost_PctLo_train, y_train)"
   ]
  },
  {
   "cell_type": "code",
   "execution_count": 47,
   "metadata": {
    "collapsed": false
   },
   "outputs": [
    {
     "name": "stdout",
     "output_type": "stream",
     "text": [
      "             precision    recall  f1-score   support\n",
      "\n",
      "Above Average       0.82      0.77      0.79       744\n",
      "Below Average       0.78      0.83      0.80       740\n",
      "\n",
      "avg / total       0.80      0.80      0.80      1484\n",
      "\n"
     ]
    }
   ],
   "source": [
    "print metrics.classification_report(y_test,modGBM.predict(X_Cost_PctLo_test))"
   ]
  },
  {
   "cell_type": "markdown",
   "metadata": {},
   "source": [
    "##### SVM"
   ]
  },
  {
   "cell_type": "code",
   "execution_count": 48,
   "metadata": {
    "collapsed": false
   },
   "outputs": [],
   "source": [
    "X_Cost_PctLo_train_scaled = np.column_stack((COSTT4_A_scaled_train, INC_PCT_LO_scaled_train))\n",
    "X_Cost_PctLo_test_scaled = np.column_stack((COSTT4_A_scaled_test, INC_PCT_LO_scaled_test))"
   ]
  },
  {
   "cell_type": "code",
   "execution_count": 49,
   "metadata": {
    "collapsed": false
   },
   "outputs": [
    {
     "data": {
      "text/plain": [
       "SVC(C=1.0, cache_size=200, class_weight=None, coef0=0.0, degree=3, gamma=0.0,\n",
       "  kernel='rbf', max_iter=-1, probability=False, random_state=None,\n",
       "  shrinking=True, tol=0.001, verbose=False)"
      ]
     },
     "execution_count": 49,
     "metadata": {},
     "output_type": "execute_result"
    }
   ],
   "source": [
    "modSVM = SVC()\n",
    "modSVM.fit(X_Cost_PctLo_train_scaled,y_train)"
   ]
  },
  {
   "cell_type": "code",
   "execution_count": 50,
   "metadata": {
    "collapsed": false
   },
   "outputs": [
    {
     "name": "stdout",
     "output_type": "stream",
     "text": [
      "             precision    recall  f1-score   support\n",
      "\n",
      "Above Average       0.83      0.72      0.78       744\n",
      "Below Average       0.76      0.86      0.80       740\n",
      "\n",
      "avg / total       0.79      0.79      0.79      1484\n",
      "\n"
     ]
    }
   ],
   "source": [
    "print metrics.classification_report(y_test,modSVM.predict(X_Cost_PctLo_test_scaled))"
   ]
  },
  {
   "cell_type": "markdown",
   "metadata": {},
   "source": [
    "##### KNN"
   ]
  },
  {
   "cell_type": "code",
   "execution_count": 51,
   "metadata": {
    "collapsed": false
   },
   "outputs": [
    {
     "data": {
      "text/plain": [
       "KNeighborsClassifier(algorithm='auto', leaf_size=30, metric='minkowski',\n",
       "           metric_params=None, n_neighbors=15, p=2, weights='uniform')"
      ]
     },
     "execution_count": 51,
     "metadata": {},
     "output_type": "execute_result"
    }
   ],
   "source": [
    "modKNN = KNeighborsClassifier(n_neighbors = 15)\n",
    "modKNN.fit(X_Cost_PctLo_train_scaled,y_train)"
   ]
  },
  {
   "cell_type": "code",
   "execution_count": 52,
   "metadata": {
    "collapsed": false
   },
   "outputs": [
    {
     "name": "stdout",
     "output_type": "stream",
     "text": [
      "             precision    recall  f1-score   support\n",
      "\n",
      "Above Average       0.82      0.73      0.77       744\n",
      "Below Average       0.76      0.84      0.79       740\n",
      "\n",
      "avg / total       0.79      0.78      0.78      1484\n",
      "\n"
     ]
    }
   ],
   "source": [
    "print metrics.classification_report(y_test,modKNN.predict(X_Cost_PctLo_test_scaled))"
   ]
  },
  {
   "cell_type": "markdown",
   "metadata": {},
   "source": [
    "##### Cost and 1st Gen Students"
   ]
  },
  {
   "cell_type": "code",
   "execution_count": 53,
   "metadata": {
    "collapsed": true
   },
   "outputs": [],
   "source": [
    "X_Cost_1stGen_train = np.column_stack((COSTT4_A_train, PAR_ED_PCT_1STGEN_train))\n",
    "X_Cost_1stGen_test = np.column_stack((COSTT4_A_test, PAR_ED_PCT_1STGEN_test))"
   ]
  },
  {
   "cell_type": "markdown",
   "metadata": {},
   "source": [
    "##### Decision Tree"
   ]
  },
  {
   "cell_type": "code",
   "execution_count": 54,
   "metadata": {
    "collapsed": false
   },
   "outputs": [
    {
     "data": {
      "text/plain": [
       "DecisionTreeClassifier(compute_importances=None, criterion='gini',\n",
       "            max_depth=6, max_features=None, max_leaf_nodes=None,\n",
       "            min_density=None, min_samples_leaf=1, min_samples_split=2,\n",
       "            random_state=None, splitter='best')"
      ]
     },
     "execution_count": 54,
     "metadata": {},
     "output_type": "execute_result"
    }
   ],
   "source": [
    "modDT = DecisionTreeClassifier(max_depth=6)\n",
    "modDT.fit(X_Cost_1stGen_train, y_train)"
   ]
  },
  {
   "cell_type": "code",
   "execution_count": 55,
   "metadata": {
    "collapsed": false
   },
   "outputs": [
    {
     "name": "stdout",
     "output_type": "stream",
     "text": [
      "             precision    recall  f1-score   support\n",
      "\n",
      "Above Average       0.80      0.70      0.75       744\n",
      "Below Average       0.73      0.83      0.78       740\n",
      "\n",
      "avg / total       0.77      0.76      0.76      1484\n",
      "\n"
     ]
    }
   ],
   "source": [
    "print metrics.classification_report(y_test,modDT.predict(X_Cost_1stGen_test))"
   ]
  },
  {
   "cell_type": "markdown",
   "metadata": {},
   "source": [
    "##### Random Forest"
   ]
  },
  {
   "cell_type": "code",
   "execution_count": 56,
   "metadata": {
    "collapsed": false
   },
   "outputs": [
    {
     "data": {
      "text/plain": [
       "RandomForestClassifier(bootstrap=True, compute_importances=None,\n",
       "            criterion='gini', max_depth=None, max_features='auto',\n",
       "            max_leaf_nodes=None, min_density=None, min_samples_leaf=1,\n",
       "            min_samples_split=2, n_estimators=1000, n_jobs=1,\n",
       "            oob_score=False, random_state=None, verbose=0)"
      ]
     },
     "execution_count": 56,
     "metadata": {},
     "output_type": "execute_result"
    }
   ],
   "source": [
    "modRF = RandomForestClassifier(n_estimators=1000)\n",
    "modRF.fit(X_Cost_1stGen_train, y_train)"
   ]
  },
  {
   "cell_type": "code",
   "execution_count": 57,
   "metadata": {
    "collapsed": false
   },
   "outputs": [
    {
     "name": "stdout",
     "output_type": "stream",
     "text": [
      "             precision    recall  f1-score   support\n",
      "\n",
      "Above Average       0.76      0.73      0.74       744\n",
      "Below Average       0.74      0.76      0.75       740\n",
      "\n",
      "avg / total       0.75      0.75      0.75      1484\n",
      "\n"
     ]
    }
   ],
   "source": [
    "print metrics.classification_report(y_test,modRF.predict(X_Cost_1stGen_test))"
   ]
  },
  {
   "cell_type": "code",
   "execution_count": 58,
   "metadata": {
    "collapsed": false
   },
   "outputs": [
    {
     "data": {
      "text/plain": [
       "array([ 0.47304865,  0.52695135])"
      ]
     },
     "execution_count": 58,
     "metadata": {},
     "output_type": "execute_result"
    }
   ],
   "source": [
    "modRF.feature_importances_"
   ]
  },
  {
   "cell_type": "markdown",
   "metadata": {},
   "source": [
    "##### Multinomial Naive Bayes"
   ]
  },
  {
   "cell_type": "code",
   "execution_count": 59,
   "metadata": {
    "collapsed": false
   },
   "outputs": [
    {
     "data": {
      "text/plain": [
       "MultinomialNB(alpha=1, class_prior=None, fit_prior=True)"
      ]
     },
     "execution_count": 59,
     "metadata": {},
     "output_type": "execute_result"
    }
   ],
   "source": [
    "modNB = MultinomialNB(alpha=1)\n",
    "modNB.fit(X_Cost_1stGen_train, y_train)"
   ]
  },
  {
   "cell_type": "code",
   "execution_count": 60,
   "metadata": {
    "collapsed": false
   },
   "outputs": [
    {
     "name": "stdout",
     "output_type": "stream",
     "text": [
      "             precision    recall  f1-score   support\n",
      "\n",
      "Above Average       0.90      0.49      0.63       744\n",
      "Below Average       0.65      0.94      0.77       740\n",
      "\n",
      "avg / total       0.77      0.71      0.70      1484\n",
      "\n"
     ]
    }
   ],
   "source": [
    "print metrics.classification_report(y_test,modNB.predict(X_Cost_1stGen_test))"
   ]
  },
  {
   "cell_type": "markdown",
   "metadata": {},
   "source": [
    "##### Logistic Regressions"
   ]
  },
  {
   "cell_type": "code",
   "execution_count": 61,
   "metadata": {
    "collapsed": false
   },
   "outputs": [
    {
     "data": {
      "text/plain": [
       "LogisticRegression(C=1.0, class_weight=None, dual=False, fit_intercept=True,\n",
       "          intercept_scaling=1, penalty='l2', random_state=None, tol=0.0001)"
      ]
     },
     "execution_count": 61,
     "metadata": {},
     "output_type": "execute_result"
    }
   ],
   "source": [
    "modLog = LogisticRegression()\n",
    "modLog.fit(X_Cost_1stGen_train, y_train)"
   ]
  },
  {
   "cell_type": "code",
   "execution_count": 62,
   "metadata": {
    "collapsed": false
   },
   "outputs": [
    {
     "name": "stdout",
     "output_type": "stream",
     "text": [
      "             precision    recall  f1-score   support\n",
      "\n",
      "Above Average       0.53      0.99      0.69       744\n",
      "Below Average       0.95      0.11      0.19       740\n",
      "\n",
      "avg / total       0.74      0.55      0.44      1484\n",
      "\n"
     ]
    }
   ],
   "source": [
    "print metrics.classification_report(y_test,modLog.predict(X_Cost_1stGen_test))"
   ]
  },
  {
   "cell_type": "markdown",
   "metadata": {},
   "source": [
    "##### Gradient Boosting Machine"
   ]
  },
  {
   "cell_type": "code",
   "execution_count": 63,
   "metadata": {
    "collapsed": false
   },
   "outputs": [
    {
     "name": "stdout",
     "output_type": "stream",
     "text": [
      "      Iter       Train Loss      OOB Improve   Remaining Time \n",
      "         1           1.3497           0.0330            0.40s\n",
      "         2           1.3190           0.0299            0.34s\n",
      "         3           1.2886           0.0266            0.32s\n",
      "         4           1.2622           0.0212            0.32s\n",
      "         5           1.2404           0.0233            0.31s\n",
      "         6           1.2163           0.0189            0.32s\n",
      "         7           1.1958           0.0174            0.31s\n",
      "         8           1.1787           0.0150            0.30s\n",
      "         9           1.1623           0.0171            0.29s\n",
      "        10           1.1459           0.0151            0.29s\n",
      "        20           1.0415           0.0079            0.24s\n",
      "        30           0.9868           0.0025            0.22s\n",
      "        40           0.9594           0.0015            0.18s\n",
      "        50           0.9290           0.0003            0.16s\n",
      "        60           0.9171          -0.0007            0.12s\n",
      "        70           0.9153          -0.0001            0.09s\n",
      "        80           0.8973          -0.0008            0.06s\n",
      "        90           0.9048           0.0001            0.03s\n",
      "       100           0.8951          -0.0005            0.00s\n"
     ]
    },
    {
     "data": {
      "text/plain": [
       "GradientBoostingClassifier(init=None, learning_rate=0.05, loss='deviance',\n",
       "              max_depth=3, max_features=None, max_leaf_nodes=None,\n",
       "              min_samples_leaf=1, min_samples_split=2, n_estimators=100,\n",
       "              random_state=None, subsample=0.9, verbose=1,\n",
       "              warm_start=False)"
      ]
     },
     "execution_count": 63,
     "metadata": {},
     "output_type": "execute_result"
    }
   ],
   "source": [
    "modGBM = GradientBoostingClassifier(learning_rate = .05, subsample = .9, verbose = 1)\n",
    "modGBM.fit(X_Cost_1stGen_train, y_train)"
   ]
  },
  {
   "cell_type": "code",
   "execution_count": 64,
   "metadata": {
    "collapsed": false
   },
   "outputs": [
    {
     "name": "stdout",
     "output_type": "stream",
     "text": [
      "             precision    recall  f1-score   support\n",
      "\n",
      "Above Average       0.81      0.72      0.76       744\n",
      "Below Average       0.75      0.83      0.79       740\n",
      "\n",
      "avg / total       0.78      0.77      0.77      1484\n",
      "\n"
     ]
    }
   ],
   "source": [
    "print metrics.classification_report(y_test,modGBM.predict(X_Cost_1stGen_test))"
   ]
  },
  {
   "cell_type": "markdown",
   "metadata": {},
   "source": [
    "##### SVM"
   ]
  },
  {
   "cell_type": "code",
   "execution_count": 65,
   "metadata": {
    "collapsed": false
   },
   "outputs": [],
   "source": [
    "X_Cost_1stGen_train_scaled = np.column_stack((COSTT4_A_scaled_train, PAR_ED_PCT_1STGEN_scaled_train))\n",
    "X_Cost_1stGen_test_scaled = np.column_stack((COSTT4_A_scaled_test, PAR_ED_PCT_1STGEN_scaled_test))"
   ]
  },
  {
   "cell_type": "code",
   "execution_count": 66,
   "metadata": {
    "collapsed": false
   },
   "outputs": [
    {
     "data": {
      "text/plain": [
       "SVC(C=1.0, cache_size=200, class_weight=None, coef0=0.0, degree=3, gamma=0.0,\n",
       "  kernel='rbf', max_iter=-1, probability=False, random_state=None,\n",
       "  shrinking=True, tol=0.001, verbose=False)"
      ]
     },
     "execution_count": 66,
     "metadata": {},
     "output_type": "execute_result"
    }
   ],
   "source": [
    "modSVM = SVC()\n",
    "modSVM.fit(X_Cost_1stGen_train_scaled,y_train)"
   ]
  },
  {
   "cell_type": "code",
   "execution_count": 67,
   "metadata": {
    "collapsed": false,
    "scrolled": true
   },
   "outputs": [
    {
     "name": "stdout",
     "output_type": "stream",
     "text": [
      "             precision    recall  f1-score   support\n",
      "\n",
      "Above Average       0.84      0.67      0.74       744\n",
      "Below Average       0.72      0.87      0.79       740\n",
      "\n",
      "avg / total       0.78      0.77      0.77      1484\n",
      "\n"
     ]
    }
   ],
   "source": [
    "print metrics.classification_report(y_test,modSVM.predict(X_Cost_1stGen_test_scaled))"
   ]
  },
  {
   "cell_type": "markdown",
   "metadata": {},
   "source": [
    "##### KNN"
   ]
  },
  {
   "cell_type": "code",
   "execution_count": 68,
   "metadata": {
    "collapsed": false
   },
   "outputs": [
    {
     "data": {
      "text/plain": [
       "KNeighborsClassifier(algorithm='auto', leaf_size=30, metric='minkowski',\n",
       "           metric_params=None, n_neighbors=10, p=2, weights='uniform')"
      ]
     },
     "execution_count": 68,
     "metadata": {},
     "output_type": "execute_result"
    }
   ],
   "source": [
    "modKNN = KNeighborsClassifier(n_neighbors = 10)\n",
    "modKNN.fit(X_Cost_1stGen_train_scaled,y_train)"
   ]
  },
  {
   "cell_type": "code",
   "execution_count": 69,
   "metadata": {
    "collapsed": false
   },
   "outputs": [
    {
     "name": "stdout",
     "output_type": "stream",
     "text": [
      "             precision    recall  f1-score   support\n",
      "\n",
      "Above Average       0.77      0.75      0.76       744\n",
      "Below Average       0.76      0.77      0.76       740\n",
      "\n",
      "avg / total       0.76      0.76      0.76      1484\n",
      "\n"
     ]
    }
   ],
   "source": [
    "print metrics.classification_report(y_test,modKNN.predict(X_Cost_1stGen_test_scaled))"
   ]
  },
  {
   "cell_type": "markdown",
   "metadata": {},
   "source": [
    "##### % Lo Income and 1st Gen Students"
   ]
  },
  {
   "cell_type": "code",
   "execution_count": 70,
   "metadata": {
    "collapsed": true
   },
   "outputs": [],
   "source": [
    "X_PctLo_1stGen_train = np.column_stack((INC_PCT_LO_train, PAR_ED_PCT_1STGEN_train))\n",
    "X_PctLo_1stGen_test = np.column_stack((INC_PCT_LO_test, PAR_ED_PCT_1STGEN_test))"
   ]
  },
  {
   "cell_type": "markdown",
   "metadata": {},
   "source": [
    "##### Decision Tree"
   ]
  },
  {
   "cell_type": "code",
   "execution_count": 71,
   "metadata": {
    "collapsed": false
   },
   "outputs": [
    {
     "data": {
      "text/plain": [
       "DecisionTreeClassifier(compute_importances=None, criterion='gini',\n",
       "            max_depth=6, max_features=None, max_leaf_nodes=None,\n",
       "            min_density=None, min_samples_leaf=1, min_samples_split=2,\n",
       "            random_state=None, splitter='best')"
      ]
     },
     "execution_count": 71,
     "metadata": {},
     "output_type": "execute_result"
    }
   ],
   "source": [
    "modDT = DecisionTreeClassifier(max_depth=6)\n",
    "modDT.fit(X_PctLo_1stGen_train, y_train)"
   ]
  },
  {
   "cell_type": "code",
   "execution_count": 72,
   "metadata": {
    "collapsed": false
   },
   "outputs": [
    {
     "name": "stdout",
     "output_type": "stream",
     "text": [
      "             precision    recall  f1-score   support\n",
      "\n",
      "Above Average       0.79      0.75      0.77       744\n",
      "Below Average       0.76      0.79      0.78       740\n",
      "\n",
      "avg / total       0.77      0.77      0.77      1484\n",
      "\n"
     ]
    }
   ],
   "source": [
    "print metrics.classification_report(y_test,modDT.predict(X_PctLo_1stGen_test))"
   ]
  },
  {
   "cell_type": "markdown",
   "metadata": {},
   "source": [
    "##### Random Forest"
   ]
  },
  {
   "cell_type": "code",
   "execution_count": 73,
   "metadata": {
    "collapsed": false
   },
   "outputs": [
    {
     "data": {
      "text/plain": [
       "RandomForestClassifier(bootstrap=True, compute_importances=None,\n",
       "            criterion='gini', max_depth=None, max_features='auto',\n",
       "            max_leaf_nodes=None, min_density=None, min_samples_leaf=1,\n",
       "            min_samples_split=2, n_estimators=1000, n_jobs=1,\n",
       "            oob_score=False, random_state=None, verbose=0)"
      ]
     },
     "execution_count": 73,
     "metadata": {},
     "output_type": "execute_result"
    }
   ],
   "source": [
    "modRF = RandomForestClassifier(n_estimators=1000)\n",
    "modRF.fit(X_PctLo_1stGen_train, y_train)"
   ]
  },
  {
   "cell_type": "code",
   "execution_count": 74,
   "metadata": {
    "collapsed": false
   },
   "outputs": [
    {
     "name": "stdout",
     "output_type": "stream",
     "text": [
      "             precision    recall  f1-score   support\n",
      "\n",
      "Above Average       0.79      0.72      0.75       744\n",
      "Below Average       0.74      0.80      0.77       740\n",
      "\n",
      "avg / total       0.76      0.76      0.76      1484\n",
      "\n"
     ]
    }
   ],
   "source": [
    "print metrics.classification_report(y_test,modRF.predict(X_PctLo_1stGen_test))"
   ]
  },
  {
   "cell_type": "code",
   "execution_count": 75,
   "metadata": {
    "collapsed": false
   },
   "outputs": [
    {
     "data": {
      "text/plain": [
       "array([ 0.52690631,  0.47309369])"
      ]
     },
     "execution_count": 75,
     "metadata": {},
     "output_type": "execute_result"
    }
   ],
   "source": [
    "modRF.feature_importances_"
   ]
  },
  {
   "cell_type": "markdown",
   "metadata": {},
   "source": [
    "##### Multinomial Naive Bayes"
   ]
  },
  {
   "cell_type": "code",
   "execution_count": 76,
   "metadata": {
    "collapsed": false
   },
   "outputs": [
    {
     "data": {
      "text/plain": [
       "MultinomialNB(alpha=1, class_prior=None, fit_prior=True)"
      ]
     },
     "execution_count": 76,
     "metadata": {},
     "output_type": "execute_result"
    }
   ],
   "source": [
    "modNB = MultinomialNB(alpha=1)\n",
    "modNB.fit(X_PctLo_1stGen_train, y_train)"
   ]
  },
  {
   "cell_type": "code",
   "execution_count": 77,
   "metadata": {
    "collapsed": false
   },
   "outputs": [
    {
     "name": "stdout",
     "output_type": "stream",
     "text": [
      "             precision    recall  f1-score   support\n",
      "\n",
      "Above Average       0.00      0.00      0.00       744\n",
      "Below Average       0.50      1.00      0.67       740\n",
      "\n",
      "avg / total       0.25      0.50      0.33      1484\n",
      "\n"
     ]
    }
   ],
   "source": [
    "print metrics.classification_report(y_test,modNB.predict(X_PctLo_1stGen_test))"
   ]
  },
  {
   "cell_type": "markdown",
   "metadata": {},
   "source": [
    "##### Logistic Regressions"
   ]
  },
  {
   "cell_type": "code",
   "execution_count": 78,
   "metadata": {
    "collapsed": false
   },
   "outputs": [
    {
     "data": {
      "text/plain": [
       "LogisticRegression(C=1.0, class_weight=None, dual=False, fit_intercept=True,\n",
       "          intercept_scaling=1, penalty='l2', random_state=None, tol=0.0001)"
      ]
     },
     "execution_count": 78,
     "metadata": {},
     "output_type": "execute_result"
    }
   ],
   "source": [
    "modLog = LogisticRegression()\n",
    "modLog.fit(X_PctLo_1stGen_train, y_train)"
   ]
  },
  {
   "cell_type": "code",
   "execution_count": 79,
   "metadata": {
    "collapsed": false
   },
   "outputs": [
    {
     "name": "stdout",
     "output_type": "stream",
     "text": [
      "             precision    recall  f1-score   support\n",
      "\n",
      "Above Average       0.78      0.77      0.78       744\n",
      "Below Average       0.77      0.79      0.78       740\n",
      "\n",
      "avg / total       0.78      0.78      0.78      1484\n",
      "\n"
     ]
    }
   ],
   "source": [
    "print metrics.classification_report(y_test,modLog.predict(X_PctLo_1stGen_test))"
   ]
  },
  {
   "cell_type": "markdown",
   "metadata": {},
   "source": [
    "##### Gradient Boosting Machine"
   ]
  },
  {
   "cell_type": "code",
   "execution_count": 80,
   "metadata": {
    "collapsed": false
   },
   "outputs": [
    {
     "name": "stdout",
     "output_type": "stream",
     "text": [
      "      Iter       Train Loss      OOB Improve   Remaining Time \n",
      "         1           1.3457           0.0415            0.38s\n",
      "         2           1.3105           0.0339            0.39s\n",
      "         3           1.2782           0.0283            0.37s\n",
      "         4           1.2514           0.0278            0.34s\n",
      "         5           1.2258           0.0270            0.32s\n",
      "         6           1.1997           0.0230            0.31s\n",
      "         7           1.1791           0.0228            0.30s\n",
      "         8           1.1585           0.0189            0.29s\n",
      "         9           1.1405           0.0184            0.28s\n",
      "        10           1.1214           0.0159            0.28s\n",
      "        20           1.0082           0.0072            0.24s\n",
      "        30           0.9495           0.0027            0.21s\n",
      "        40           0.9165           0.0009            0.18s\n",
      "        50           0.9104           0.0001            0.15s\n",
      "        60           0.9018           0.0006            0.12s\n",
      "        70           0.8853           0.0000            0.09s\n",
      "        80           0.8757          -0.0007            0.06s\n",
      "        90           0.8773          -0.0001            0.03s\n",
      "       100           0.8616          -0.0000            0.00s\n"
     ]
    },
    {
     "data": {
      "text/plain": [
       "GradientBoostingClassifier(init=None, learning_rate=0.05, loss='deviance',\n",
       "              max_depth=3, max_features=None, max_leaf_nodes=None,\n",
       "              min_samples_leaf=1, min_samples_split=2, n_estimators=100,\n",
       "              random_state=None, subsample=0.9, verbose=1,\n",
       "              warm_start=False)"
      ]
     },
     "execution_count": 80,
     "metadata": {},
     "output_type": "execute_result"
    }
   ],
   "source": [
    "modGBM = GradientBoostingClassifier(learning_rate = .05, subsample = .9, verbose = 1)\n",
    "modGBM.fit(X_PctLo_1stGen_train, y_train)"
   ]
  },
  {
   "cell_type": "code",
   "execution_count": 81,
   "metadata": {
    "collapsed": false
   },
   "outputs": [
    {
     "name": "stdout",
     "output_type": "stream",
     "text": [
      "             precision    recall  f1-score   support\n",
      "\n",
      "Above Average       0.80      0.74      0.77       744\n",
      "Below Average       0.76      0.81      0.79       740\n",
      "\n",
      "avg / total       0.78      0.78      0.78      1484\n",
      "\n"
     ]
    }
   ],
   "source": [
    "print metrics.classification_report(y_test,modGBM.predict(X_PctLo_1stGen_test))"
   ]
  },
  {
   "cell_type": "markdown",
   "metadata": {},
   "source": [
    "##### SVM"
   ]
  },
  {
   "cell_type": "code",
   "execution_count": 82,
   "metadata": {
    "collapsed": true
   },
   "outputs": [],
   "source": [
    "X_PctLo_1stGen_train_scaled = np.column_stack((INC_PCT_LO_scaled_train, PAR_ED_PCT_1STGEN_scaled_train))\n",
    "X_PctLo_1stGen_test_scaled = np.column_stack((INC_PCT_LO_scaled_test, PAR_ED_PCT_1STGEN_scaled_test))"
   ]
  },
  {
   "cell_type": "code",
   "execution_count": 83,
   "metadata": {
    "collapsed": false
   },
   "outputs": [
    {
     "data": {
      "text/plain": [
       "SVC(C=1.0, cache_size=200, class_weight=None, coef0=0.0, degree=3, gamma=0.0,\n",
       "  kernel='rbf', max_iter=-1, probability=False, random_state=None,\n",
       "  shrinking=True, tol=0.001, verbose=False)"
      ]
     },
     "execution_count": 83,
     "metadata": {},
     "output_type": "execute_result"
    }
   ],
   "source": [
    "modSVM = SVC()\n",
    "modSVM.fit(X_PctLo_1stGen_train_scaled,y_train)"
   ]
  },
  {
   "cell_type": "code",
   "execution_count": 84,
   "metadata": {
    "collapsed": false
   },
   "outputs": [
    {
     "name": "stdout",
     "output_type": "stream",
     "text": [
      "             precision    recall  f1-score   support\n",
      "\n",
      "Above Average       0.82      0.71      0.76       744\n",
      "Below Average       0.74      0.85      0.79       740\n",
      "\n",
      "avg / total       0.78      0.78      0.78      1484\n",
      "\n"
     ]
    }
   ],
   "source": [
    "print metrics.classification_report(y_test,modSVM.predict(X_PctLo_1stGen_test_scaled))"
   ]
  },
  {
   "cell_type": "markdown",
   "metadata": {},
   "source": [
    "##### KNN"
   ]
  },
  {
   "cell_type": "code",
   "execution_count": 85,
   "metadata": {
    "collapsed": false
   },
   "outputs": [
    {
     "data": {
      "text/plain": [
       "KNeighborsClassifier(algorithm='auto', leaf_size=30, metric='minkowski',\n",
       "           metric_params=None, n_neighbors=10, p=2, weights='uniform')"
      ]
     },
     "execution_count": 85,
     "metadata": {},
     "output_type": "execute_result"
    }
   ],
   "source": [
    "modKNN = KNeighborsClassifier(n_neighbors = 10)\n",
    "modKNN.fit(X_PctLo_1stGen_train_scaled,y_train)"
   ]
  },
  {
   "cell_type": "code",
   "execution_count": 86,
   "metadata": {
    "collapsed": false,
    "scrolled": true
   },
   "outputs": [
    {
     "name": "stdout",
     "output_type": "stream",
     "text": [
      "             precision    recall  f1-score   support\n",
      "\n",
      "Above Average       0.79      0.75      0.77       744\n",
      "Below Average       0.76      0.80      0.78       740\n",
      "\n",
      "avg / total       0.77      0.77      0.77      1484\n",
      "\n"
     ]
    }
   ],
   "source": [
    "print metrics.classification_report(y_test,modKNN.predict(X_PctLo_1stGen_test_scaled))"
   ]
  }
 ],
 "metadata": {
  "kernelspec": {
   "display_name": "Python 2",
   "language": "python",
   "name": "python2"
  },
  "language_info": {
   "codemirror_mode": {
    "name": "ipython",
    "version": 2
   },
   "file_extension": ".py",
   "mimetype": "text/x-python",
   "name": "python",
   "nbconvert_exporter": "python",
   "pygments_lexer": "ipython2",
   "version": "2.7.10"
  }
 },
 "nbformat": 4,
 "nbformat_minor": 0
}
